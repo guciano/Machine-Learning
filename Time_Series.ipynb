{
  "nbformat": 4,
  "nbformat_minor": 0,
  "metadata": {
    "colab": {
      "name": "Time Series.ipynb",
      "provenance": [],
      "collapsed_sections": [],
      "authorship_tag": "ABX9TyNpJ988SBVPYeNdbdMTIUul",
      "include_colab_link": true
    },
    "kernelspec": {
      "display_name": "Python 3",
      "name": "python3"
    }
  },
  "cells": [
    {
      "cell_type": "markdown",
      "metadata": {
        "id": "view-in-github",
        "colab_type": "text"
      },
      "source": [
        "<a href=\"https://colab.research.google.com/github/guciano/Machine-Learning/blob/master/Time_Series.ipynb\" target=\"_parent\"><img src=\"https://colab.research.google.com/assets/colab-badge.svg\" alt=\"Open In Colab\"/></a>"
      ]
    },
    {
      "cell_type": "markdown",
      "metadata": {
        "id": "EZ6euigX8EXo"
      },
      "source": [
        "#Import Library"
      ]
    },
    {
      "cell_type": "code",
      "metadata": {
        "id": "uBQbXoLe78bu"
      },
      "source": [
        "import numpy as np\n",
        "import pandas as pd\n",
        "import matplotlib.pyplot as plt\n",
        "import tensorflow as tf\n",
        "from google.colab import files\n",
        "from sklearn.preprocessing import MinMaxScaler\n",
        "from keras.models import Sequential\n",
        "from keras.layers import Dense, LSTM, Dropout, GRU, Bidirectional\n",
        "from keras.optimizers import SGD\n",
        "import math\n",
        "from sklearn.metrics import mean_squared_error"
      ],
      "execution_count": 1,
      "outputs": []
    },
    {
      "cell_type": "code",
      "metadata": {
        "id": "XVgD0u_38JFO",
        "outputId": "a2ed1077-ebc9-4a61-d6f1-f3ad0330f200",
        "colab": {
          "resources": {
            "http://localhost:8080/nbextensions/google.colab/files.js": {
              "data": "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",
              "ok": true,
              "headers": [
                [
                  "content-type",
                  "application/javascript"
                ]
              ],
              "status": 200,
              "status_text": ""
            }
          },
          "base_uri": "https://localhost:8080/",
          "height": 72
        }
      },
      "source": [
        "uploaded = files.upload()"
      ],
      "execution_count": 2,
      "outputs": [
        {
          "output_type": "display_data",
          "data": {
            "text/html": [
              "\n",
              "     <input type=\"file\" id=\"files-63a154a8-1a6e-4249-be38-5b2f3256a19b\" name=\"files[]\" multiple disabled\n",
              "        style=\"border:none\" />\n",
              "     <output id=\"result-63a154a8-1a6e-4249-be38-5b2f3256a19b\">\n",
              "      Upload widget is only available when the cell has been executed in the\n",
              "      current browser session. Please rerun this cell to enable.\n",
              "      </output>\n",
              "      <script src=\"/nbextensions/google.colab/files.js\"></script> "
            ],
            "text/plain": [
              "<IPython.core.display.HTML object>"
            ]
          },
          "metadata": {
            "tags": []
          }
        },
        {
          "output_type": "stream",
          "text": [
            "Saving DataHistorisINDF.csv to DataHistorisINDF.csv\n"
          ],
          "name": "stdout"
        }
      ]
    },
    {
      "cell_type": "code",
      "metadata": {
        "id": "g9t7ZJDM_Qts"
      },
      "source": [
        "dataframe = pd.read_csv('/content/DataHistorisINDF.csv')\n",
        "dataframe"
      ],
      "execution_count": 3,
      "outputs": []
    },
    {
      "cell_type": "code",
      "metadata": {
        "id": "Qz0zoQoq4qzQ"
      },
      "source": [
        "dataframe[\"Tanggal\"] = pd.to_datetime(dataframe[\"Tanggal\"]).dt.strftime('%Y-%m-%d')"
      ],
      "execution_count": 4,
      "outputs": []
    },
    {
      "cell_type": "code",
      "metadata": {
        "id": "P0TqMrXCAetc",
        "outputId": "d1e9ea03-adb6-4b4f-fff8-0593a5f8b61b",
        "colab": {
          "base_uri": "https://localhost:8080/",
          "height": 419
        }
      },
      "source": [
        "dataframe"
      ],
      "execution_count": 5,
      "outputs": [
        {
          "output_type": "execute_result",
          "data": {
            "text/html": [
              "<div>\n",
              "<style scoped>\n",
              "    .dataframe tbody tr th:only-of-type {\n",
              "        vertical-align: middle;\n",
              "    }\n",
              "\n",
              "    .dataframe tbody tr th {\n",
              "        vertical-align: top;\n",
              "    }\n",
              "\n",
              "    .dataframe thead th {\n",
              "        text-align: right;\n",
              "    }\n",
              "</style>\n",
              "<table border=\"1\" class=\"dataframe\">\n",
              "  <thead>\n",
              "    <tr style=\"text-align: right;\">\n",
              "      <th></th>\n",
              "      <th>Tanggal</th>\n",
              "      <th>Terakhir</th>\n",
              "      <th>Pembukaan</th>\n",
              "      <th>Tertinggi</th>\n",
              "      <th>Terendah</th>\n",
              "      <th>Vol.</th>\n",
              "      <th>Perubahan%</th>\n",
              "    </tr>\n",
              "  </thead>\n",
              "  <tbody>\n",
              "    <tr>\n",
              "      <th>0</th>\n",
              "      <td>2020-10-16</td>\n",
              "      <td>7.075</td>\n",
              "      <td>7.050</td>\n",
              "      <td>7.100</td>\n",
              "      <td>7.000</td>\n",
              "      <td>10,69M</td>\n",
              "      <td>0,35%</td>\n",
              "    </tr>\n",
              "    <tr>\n",
              "      <th>1</th>\n",
              "      <td>2020-10-15</td>\n",
              "      <td>7.050</td>\n",
              "      <td>7.125</td>\n",
              "      <td>7.150</td>\n",
              "      <td>7.000</td>\n",
              "      <td>14,58M</td>\n",
              "      <td>-1,05%</td>\n",
              "    </tr>\n",
              "    <tr>\n",
              "      <th>2</th>\n",
              "      <td>2020-10-14</td>\n",
              "      <td>7.125</td>\n",
              "      <td>7.225</td>\n",
              "      <td>7.250</td>\n",
              "      <td>7.100</td>\n",
              "      <td>10,28M</td>\n",
              "      <td>-1,72%</td>\n",
              "    </tr>\n",
              "    <tr>\n",
              "      <th>3</th>\n",
              "      <td>2020-10-13</td>\n",
              "      <td>7.250</td>\n",
              "      <td>7.225</td>\n",
              "      <td>7.250</td>\n",
              "      <td>7.075</td>\n",
              "      <td>8,05M</td>\n",
              "      <td>0,69%</td>\n",
              "    </tr>\n",
              "    <tr>\n",
              "      <th>4</th>\n",
              "      <td>2020-12-10</td>\n",
              "      <td>7.200</td>\n",
              "      <td>7.300</td>\n",
              "      <td>7.325</td>\n",
              "      <td>7.200</td>\n",
              "      <td>5,12M</td>\n",
              "      <td>-0,35%</td>\n",
              "    </tr>\n",
              "    <tr>\n",
              "      <th>...</th>\n",
              "      <td>...</td>\n",
              "      <td>...</td>\n",
              "      <td>...</td>\n",
              "      <td>...</td>\n",
              "      <td>...</td>\n",
              "      <td>...</td>\n",
              "      <td>...</td>\n",
              "    </tr>\n",
              "    <tr>\n",
              "      <th>1403</th>\n",
              "      <td>2015-08-01</td>\n",
              "      <td>7.250</td>\n",
              "      <td>7.325</td>\n",
              "      <td>7.350</td>\n",
              "      <td>7.250</td>\n",
              "      <td>9,45M</td>\n",
              "      <td>-0,34%</td>\n",
              "    </tr>\n",
              "    <tr>\n",
              "      <th>1404</th>\n",
              "      <td>2015-07-01</td>\n",
              "      <td>7.275</td>\n",
              "      <td>7.300</td>\n",
              "      <td>7.350</td>\n",
              "      <td>7.275</td>\n",
              "      <td>19,63M</td>\n",
              "      <td>-1,36%</td>\n",
              "    </tr>\n",
              "    <tr>\n",
              "      <th>1405</th>\n",
              "      <td>2015-06-01</td>\n",
              "      <td>7.375</td>\n",
              "      <td>7.350</td>\n",
              "      <td>7.475</td>\n",
              "      <td>7.300</td>\n",
              "      <td>12,16M</td>\n",
              "      <td>-1,34%</td>\n",
              "    </tr>\n",
              "    <tr>\n",
              "      <th>1406</th>\n",
              "      <td>2015-05-01</td>\n",
              "      <td>7.475</td>\n",
              "      <td>7.400</td>\n",
              "      <td>7.500</td>\n",
              "      <td>7.225</td>\n",
              "      <td>24,21M</td>\n",
              "      <td>0,34%</td>\n",
              "    </tr>\n",
              "    <tr>\n",
              "      <th>1407</th>\n",
              "      <td>2015-02-01</td>\n",
              "      <td>7.450</td>\n",
              "      <td>6.850</td>\n",
              "      <td>7.450</td>\n",
              "      <td>6.850</td>\n",
              "      <td>56,58M</td>\n",
              "      <td>10,37%</td>\n",
              "    </tr>\n",
              "  </tbody>\n",
              "</table>\n",
              "<p>1408 rows × 7 columns</p>\n",
              "</div>"
            ],
            "text/plain": [
              "         Tanggal  Terakhir  Pembukaan  Tertinggi  Terendah    Vol. Perubahan%\n",
              "0     2020-10-16     7.075      7.050      7.100     7.000  10,69M      0,35%\n",
              "1     2020-10-15     7.050      7.125      7.150     7.000  14,58M     -1,05%\n",
              "2     2020-10-14     7.125      7.225      7.250     7.100  10,28M     -1,72%\n",
              "3     2020-10-13     7.250      7.225      7.250     7.075   8,05M      0,69%\n",
              "4     2020-12-10     7.200      7.300      7.325     7.200   5,12M     -0,35%\n",
              "...          ...       ...        ...        ...       ...     ...        ...\n",
              "1403  2015-08-01     7.250      7.325      7.350     7.250   9,45M     -0,34%\n",
              "1404  2015-07-01     7.275      7.300      7.350     7.275  19,63M     -1,36%\n",
              "1405  2015-06-01     7.375      7.350      7.475     7.300  12,16M     -1,34%\n",
              "1406  2015-05-01     7.475      7.400      7.500     7.225  24,21M      0,34%\n",
              "1407  2015-02-01     7.450      6.850      7.450     6.850  56,58M     10,37%\n",
              "\n",
              "[1408 rows x 7 columns]"
            ]
          },
          "metadata": {
            "tags": []
          },
          "execution_count": 5
        }
      ]
    },
    {
      "cell_type": "code",
      "metadata": {
        "id": "He-HXfhvbmlJ",
        "outputId": "307a4a07-4269-411a-cc6d-c2b85aeab7b1",
        "colab": {
          "base_uri": "https://localhost:8080/",
          "height": 341
        }
      },
      "source": [
        "dates = dataframe['Tanggal'].values\n",
        "price  = dataframe['Terakhir'].values\n",
        " \n",
        " \n",
        "plt.figure(figsize=(15,5))\n",
        "plt.plot(dates, price)\n",
        "plt.title('INDF Stock Price',\n",
        "          fontsize=20);"
      ],
      "execution_count": 6,
      "outputs": [
        {
          "output_type": "display_data",
          "data": {
            "image/png": "[encoded data removed]",
            "text/plain": [
              "<Figure size 1080x360 with 1 Axes>"
            ]
          },
          "metadata": {
            "tags": [],
            "needs_background": "light"
          }
        }
      ]
    },
    {
      "cell_type": "code",
      "metadata": {
        "id": "V4d9e0sscqaH"
      },
      "source": [
        "def windowed_dataset(series, window_size, batch_size, shuffle_buffer):\n",
        "    series = tf.expand_dims(series, axis=-1)\n",
        "    ds = tf.data.Dataset.from_tensor_slices(series)\n",
        "    ds = ds.window(window_size + 1, shift=1, drop_remainder=True)\n",
        "    ds = ds.flat_map(lambda w: w.batch(window_size + 1))\n",
        "    ds = ds.shuffle(shuffle_buffer)\n",
        "    ds = ds.map(lambda w: (w[:-1], w[1:]))\n",
        "    return ds.batch(batch_size).prefetch(1)"
      ],
      "execution_count": 7,
      "outputs": []
    },
    {
      "cell_type": "code",
      "metadata": {
        "id": "0HYb_ahHVOBc"
      },
      "source": [
        "total_size = len(dataframe)\n",
        "train_set = total_size-int(total_size*0.2)\n",
        "test_length = total_size-train_set"
      ],
      "execution_count": 8,
      "outputs": []
    },
    {
      "cell_type": "code",
      "metadata": {
        "id": "9O2OQo69VeRk"
      },
      "source": [
        "train_price = windowed_dataset(price[:train_set], window_size=60, batch_size=32, shuffle_buffer=1000)\n",
        "test_price = windowed_dataset(price[train_set:], window_size=60, batch_size=32, shuffle_buffer=1000)"
      ],
      "execution_count": 9,
      "outputs": []
    },
    {
      "cell_type": "code",
      "metadata": {
        "id": "KYCG-P5GDSfc"
      },
      "source": [
        "model = tf.keras.models.Sequential([\n",
        "  tf.keras.layers.Conv1D(filters=60, kernel_size=5, strides=1, padding=\"causal\", activation='relu', input_shape=[None, 1]),\n",
        "  tf.keras.layers.Bidirectional(tf.keras.layers.LSTM(60, return_sequences=True)),\n",
        "  tf.keras.layers.Bidirectional(tf.keras.layers.LSTM(60, return_sequences=True)),\n",
        "  tf.keras.layers.Dense(30, activation=\"relu\"),\n",
        "  tf.keras.layers.Dense(10, activation=\"relu\"),\n",
        "  tf.keras.layers.Dense(1),\n",
        "])"
      ],
      "execution_count": 10,
      "outputs": []
    },
    {
      "cell_type": "code",
      "metadata": {
        "id": "llExmd6DFwnI"
      },
      "source": [
        "#Callbacks\n",
        "from keras.callbacks import ModelCheckpoint,EarlyStopping\n",
        "\n",
        "class myCallback(tf.keras.callbacks.Callback):\n",
        "  def on_epoch_end(self, epoch, logs={}):\n",
        "    if(logs.get('mae')<0.10):\n",
        "      print(\"\\nWe've Reached %2.2f%% MAE, Stop!\")\n",
        "      self.model.stop_training = True\n",
        "\n",
        "callbacks = myCallback()"
      ],
      "execution_count": 11,
      "outputs": []
    },
    {
      "cell_type": "code",
      "metadata": {
        "id": "n3wTYXibFd0g",
        "outputId": "983e801b-3ce1-4c99-9afb-b475f9e46fea",
        "colab": {
          "base_uri": "https://localhost:8080/",
          "height": 1000
        }
      },
      "source": [
        "optimizer = tf.keras.optimizers.SGD(lr=1.0000e-04, momentum=0.9)\n",
        "model.compile(loss=tf.keras.losses.Huber(),\n",
        "              optimizer=optimizer,\n",
        "              metrics=[\"mae\"])\n",
        "\n",
        "history = model.fit(train_price,\n",
        "                    validation_data = test_price,\n",
        "                    epochs = 500,\n",
        "                    verbose = 1,\n",
        "                    callbacks=[callbacks])"
      ],
      "execution_count": null,
      "outputs": [
        {
          "output_type": "stream",
          "text": [
            "Epoch 1/500\n",
            "34/34 [==============================] - 5s 161ms/step - loss: 6.6391 - mae: 7.1391 - val_loss: 5.4020 - val_mae: 5.9020\n",
            "Epoch 2/500\n",
            "34/34 [==============================] - 4s 120ms/step - loss: 6.3575 - mae: 6.8575 - val_loss: 5.1120 - val_mae: 5.6120\n",
            "Epoch 3/500\n",
            "34/34 [==============================] - 4s 121ms/step - loss: 6.0134 - mae: 6.5134 - val_loss: 4.7157 - val_mae: 5.2157\n",
            "Epoch 4/500\n",
            "34/34 [==============================] - 4s 118ms/step - loss: 5.5062 - mae: 6.0062 - val_loss: 4.0765 - val_mae: 4.5765\n",
            "Epoch 5/500\n",
            "34/34 [==============================] - 4s 121ms/step - loss: 4.6873 - mae: 5.1873 - val_loss: 3.0738 - val_mae: 3.5738\n",
            "Epoch 6/500\n",
            "34/34 [==============================] - 4s 121ms/step - loss: 3.3755 - mae: 3.8755 - val_loss: 1.4106 - val_mae: 1.8950\n",
            "Epoch 7/500\n",
            "34/34 [==============================] - 4s 120ms/step - loss: 1.2924 - mae: 1.7465 - val_loss: 0.6820 - val_mae: 1.0750\n",
            "Epoch 8/500\n",
            "34/34 [==============================] - 4s 120ms/step - loss: 0.4713 - mae: 0.8364 - val_loss: 0.7710 - val_mae: 1.1913\n",
            "Epoch 9/500\n",
            "34/34 [==============================] - 4s 121ms/step - loss: 0.4575 - mae: 0.8264 - val_loss: 0.7334 - val_mae: 1.1445\n",
            "Epoch 10/500\n",
            "34/34 [==============================] - 4s 123ms/step - loss: 0.4511 - mae: 0.8174 - val_loss: 0.7277 - val_mae: 1.1380\n",
            "Epoch 11/500\n",
            "34/34 [==============================] - 4s 119ms/step - loss: 0.4464 - mae: 0.8133 - val_loss: 0.7283 - val_mae: 1.1400\n",
            "Epoch 12/500\n",
            "34/34 [==============================] - 4s 119ms/step - loss: 0.4417 - mae: 0.8070 - val_loss: 0.7099 - val_mae: 1.1180\n",
            "Epoch 13/500\n",
            "34/34 [==============================] - 4s 119ms/step - loss: 0.4345 - mae: 0.7998 - val_loss: 0.6799 - val_mae: 1.0818\n",
            "Epoch 14/500\n",
            "34/34 [==============================] - 4s 120ms/step - loss: 0.4250 - mae: 0.7875 - val_loss: 0.7003 - val_mae: 1.1097\n",
            "Epoch 15/500\n",
            "34/34 [==============================] - 4s 121ms/step - loss: 0.4193 - mae: 0.7801 - val_loss: 0.6693 - val_mae: 1.0702\n",
            "Epoch 16/500\n",
            "34/34 [==============================] - 4s 119ms/step - loss: 0.4143 - mae: 0.7737 - val_loss: 0.6710 - val_mae: 1.0743\n",
            "Epoch 17/500\n",
            "34/34 [==============================] - 4s 121ms/step - loss: 0.4084 - mae: 0.7679 - val_loss: 0.6613 - val_mae: 1.0644\n",
            "Epoch 18/500\n",
            "34/34 [==============================] - 4s 120ms/step - loss: 0.4017 - mae: 0.7587 - val_loss: 0.6714 - val_mae: 1.0806\n",
            "Epoch 19/500\n",
            "34/34 [==============================] - 4s 122ms/step - loss: 0.3938 - mae: 0.7483 - val_loss: 0.6313 - val_mae: 1.0274\n",
            "Epoch 20/500\n",
            "34/34 [==============================] - 4s 122ms/step - loss: 0.3859 - mae: 0.7385 - val_loss: 0.6156 - val_mae: 1.0083\n",
            "Epoch 21/500\n",
            "34/34 [==============================] - 4s 121ms/step - loss: 0.3779 - mae: 0.7288 - val_loss: 0.6149 - val_mae: 1.0110\n",
            "Epoch 22/500\n",
            "34/34 [==============================] - 4s 120ms/step - loss: 0.3674 - mae: 0.7140 - val_loss: 0.5925 - val_mae: 0.9833\n",
            "Epoch 23/500\n",
            "34/34 [==============================] - 4s 121ms/step - loss: 0.3570 - mae: 0.7011 - val_loss: 0.5872 - val_mae: 0.9806\n",
            "Epoch 24/500\n",
            "34/34 [==============================] - 4s 122ms/step - loss: 0.3459 - mae: 0.6851 - val_loss: 0.5664 - val_mae: 0.9537\n",
            "Epoch 25/500\n",
            "34/34 [==============================] - 4s 121ms/step - loss: 0.3345 - mae: 0.6691 - val_loss: 0.5607 - val_mae: 0.9542\n",
            "Epoch 26/500\n",
            "34/34 [==============================] - 4s 121ms/step - loss: 0.3237 - mae: 0.6538 - val_loss: 0.5336 - val_mae: 0.9190\n",
            "Epoch 27/500\n",
            "34/34 [==============================] - 4s 121ms/step - loss: 0.3090 - mae: 0.6315 - val_loss: 0.5180 - val_mae: 0.9051\n",
            "Epoch 28/500\n",
            "34/34 [==============================] - 4s 120ms/step - loss: 0.2963 - mae: 0.6110 - val_loss: 0.4939 - val_mae: 0.8750\n",
            "Epoch 29/500\n",
            "34/34 [==============================] - 4s 120ms/step - loss: 0.2820 - mae: 0.5887 - val_loss: 0.4586 - val_mae: 0.8269\n",
            "Epoch 30/500\n",
            "34/34 [==============================] - 4s 121ms/step - loss: 0.2678 - mae: 0.5652 - val_loss: 0.4427 - val_mae: 0.8142\n",
            "Epoch 31/500\n",
            "34/34 [==============================] - 4s 119ms/step - loss: 0.2544 - mae: 0.5422 - val_loss: 0.3997 - val_mae: 0.7474\n",
            "Epoch 32/500\n",
            "34/34 [==============================] - 4s 121ms/step - loss: 0.2420 - mae: 0.5211 - val_loss: 0.3754 - val_mae: 0.7170\n",
            "Epoch 33/500\n",
            "34/34 [==============================] - 4s 120ms/step - loss: 0.2295 - mae: 0.4993 - val_loss: 0.3607 - val_mae: 0.6979\n",
            "Epoch 34/500\n",
            "34/34 [==============================] - 4s 120ms/step - loss: 0.2197 - mae: 0.4843 - val_loss: 0.3417 - val_mae: 0.6736\n",
            "Epoch 35/500\n",
            "34/34 [==============================] - 4s 120ms/step - loss: 0.2102 - mae: 0.4688 - val_loss: 0.3190 - val_mae: 0.6428\n",
            "Epoch 36/500\n",
            "34/34 [==============================] - 4s 122ms/step - loss: 0.1993 - mae: 0.4493 - val_loss: 0.3042 - val_mae: 0.6228\n",
            "Epoch 37/500\n",
            "34/34 [==============================] - 4s 121ms/step - loss: 0.1899 - mae: 0.4325 - val_loss: 0.2868 - val_mae: 0.6012\n",
            "Epoch 38/500\n",
            "34/34 [==============================] - 4s 120ms/step - loss: 0.1825 - mae: 0.4202 - val_loss: 0.2762 - val_mae: 0.5839\n",
            "Epoch 39/500\n",
            "34/34 [==============================] - 4s 121ms/step - loss: 0.1745 - mae: 0.4067 - val_loss: 0.2627 - val_mae: 0.5654\n",
            "Epoch 40/500\n",
            "34/34 [==============================] - 4s 121ms/step - loss: 0.1701 - mae: 0.4023 - val_loss: 0.2468 - val_mae: 0.5488\n",
            "Epoch 41/500\n",
            "34/34 [==============================] - 4s 120ms/step - loss: 0.1611 - mae: 0.3831 - val_loss: 0.2475 - val_mae: 0.5454\n",
            "Epoch 42/500\n",
            "34/34 [==============================] - 4s 123ms/step - loss: 0.1560 - mae: 0.3759 - val_loss: 0.2339 - val_mae: 0.5325\n",
            "Epoch 43/500\n",
            "34/34 [==============================] - 4s 119ms/step - loss: 0.1502 - mae: 0.3651 - val_loss: 0.2284 - val_mae: 0.5253\n",
            "Epoch 44/500\n",
            "34/34 [==============================] - 4s 119ms/step - loss: 0.1458 - mae: 0.3582 - val_loss: 0.2264 - val_mae: 0.5194\n",
            "Epoch 45/500\n",
            "34/34 [==============================] - 4s 119ms/step - loss: 0.1413 - mae: 0.3508 - val_loss: 0.2190 - val_mae: 0.5108\n",
            "Epoch 46/500\n",
            "34/34 [==============================] - 4s 119ms/step - loss: 0.1379 - mae: 0.3459 - val_loss: 0.2132 - val_mae: 0.5058\n",
            "Epoch 47/500\n",
            "34/34 [==============================] - 4s 119ms/step - loss: 0.1349 - mae: 0.3422 - val_loss: 0.2132 - val_mae: 0.5045\n",
            "Epoch 48/500\n",
            "34/34 [==============================] - 4s 121ms/step - loss: 0.1317 - mae: 0.3379 - val_loss: 0.2053 - val_mae: 0.4968\n",
            "Epoch 49/500\n",
            "34/34 [==============================] - 4s 120ms/step - loss: 0.1284 - mae: 0.3321 - val_loss: 0.2042 - val_mae: 0.4958\n",
            "Epoch 50/500\n",
            "34/34 [==============================] - 4s 119ms/step - loss: 0.1256 - mae: 0.3281 - val_loss: 0.1975 - val_mae: 0.4882\n",
            "Epoch 51/500\n",
            "34/34 [==============================] - 4s 119ms/step - loss: 0.1240 - mae: 0.3279 - val_loss: 0.1980 - val_mae: 0.4854\n",
            "Epoch 52/500\n",
            "34/34 [==============================] - 4s 119ms/step - loss: 0.1207 - mae: 0.3222 - val_loss: 0.1932 - val_mae: 0.4797\n",
            "Epoch 53/500\n",
            "34/34 [==============================] - 4s 119ms/step - loss: 0.1181 - mae: 0.3187 - val_loss: 0.1933 - val_mae: 0.4792\n",
            "Epoch 54/500\n",
            "34/34 [==============================] - 4s 120ms/step - loss: 0.1157 - mae: 0.3157 - val_loss: 0.1896 - val_mae: 0.4749\n",
            "Epoch 55/500\n",
            "34/34 [==============================] - 4s 120ms/step - loss: 0.1133 - mae: 0.3121 - val_loss: 0.1862 - val_mae: 0.4695\n",
            "Epoch 56/500\n",
            "34/34 [==============================] - 4s 122ms/step - loss: 0.1109 - mae: 0.3085 - val_loss: 0.1833 - val_mae: 0.4660\n",
            "Epoch 57/500\n",
            "34/34 [==============================] - 4s 122ms/step - loss: 0.1086 - mae: 0.3051 - val_loss: 0.1812 - val_mae: 0.4623\n",
            "Epoch 58/500\n",
            "34/34 [==============================] - 4s 121ms/step - loss: 0.1066 - mae: 0.3024 - val_loss: 0.1778 - val_mae: 0.4569\n",
            "Epoch 59/500\n",
            "34/34 [==============================] - 4s 119ms/step - loss: 0.1041 - mae: 0.2976 - val_loss: 0.1748 - val_mae: 0.4529\n",
            "Epoch 60/500\n",
            "34/34 [==============================] - 4s 119ms/step - loss: 0.1020 - mae: 0.2946 - val_loss: 0.1724 - val_mae: 0.4501\n",
            "Epoch 61/500\n",
            "34/34 [==============================] - 4s 121ms/step - loss: 0.1000 - mae: 0.2914 - val_loss: 0.1710 - val_mae: 0.4470\n",
            "Epoch 62/500\n",
            "34/34 [==============================] - 4s 119ms/step - loss: 0.0984 - mae: 0.2893 - val_loss: 0.1675 - val_mae: 0.4424\n",
            "Epoch 63/500\n",
            "34/34 [==============================] - 4s 118ms/step - loss: 0.0964 - mae: 0.2856 - val_loss: 0.1653 - val_mae: 0.4381\n",
            "Epoch 64/500\n",
            "34/34 [==============================] - 4s 118ms/step - loss: 0.0946 - mae: 0.2825 - val_loss: 0.1625 - val_mae: 0.4345\n",
            "Epoch 65/500\n",
            "34/34 [==============================] - 4s 118ms/step - loss: 0.0929 - mae: 0.2799 - val_loss: 0.1588 - val_mae: 0.4290\n",
            "Epoch 66/500\n",
            "34/34 [==============================] - 4s 119ms/step - loss: 0.0914 - mae: 0.2778 - val_loss: 0.1553 - val_mae: 0.4293\n",
            "Epoch 67/500\n",
            "34/34 [==============================] - 4s 120ms/step - loss: 0.0905 - mae: 0.2773 - val_loss: 0.1539 - val_mae: 0.4230\n",
            "Epoch 68/500\n",
            "34/34 [==============================] - 4s 120ms/step - loss: 0.0882 - mae: 0.2721 - val_loss: 0.1534 - val_mae: 0.4201\n",
            "Epoch 69/500\n",
            "34/34 [==============================] - 4s 120ms/step - loss: 0.0868 - mae: 0.2700 - val_loss: 0.1501 - val_mae: 0.4160\n",
            "Epoch 70/500\n",
            "34/34 [==============================] - 4s 120ms/step - loss: 0.0852 - mae: 0.2671 - val_loss: 0.1499 - val_mae: 0.4148\n",
            "Epoch 71/500\n",
            "34/34 [==============================] - 4s 120ms/step - loss: 0.0840 - mae: 0.2654 - val_loss: 0.1480 - val_mae: 0.4113\n",
            "Epoch 72/500\n",
            "34/34 [==============================] - 4s 120ms/step - loss: 0.0828 - mae: 0.2636 - val_loss: 0.1455 - val_mae: 0.4073\n",
            "Epoch 73/500\n",
            "34/34 [==============================] - 4s 121ms/step - loss: 0.0814 - mae: 0.2614 - val_loss: 0.1422 - val_mae: 0.4027\n",
            "Epoch 74/500\n",
            "34/34 [==============================] - 4s 120ms/step - loss: 0.0798 - mae: 0.2578 - val_loss: 0.1423 - val_mae: 0.4024\n",
            "Epoch 75/500\n",
            "34/34 [==============================] - 4s 122ms/step - loss: 0.0788 - mae: 0.2570 - val_loss: 0.1390 - val_mae: 0.3972\n",
            "Epoch 76/500\n",
            "34/34 [==============================] - 4s 121ms/step - loss: 0.0774 - mae: 0.2540 - val_loss: 0.1366 - val_mae: 0.3936\n",
            "Epoch 77/500\n",
            "34/34 [==============================] - 4s 119ms/step - loss: 0.0764 - mae: 0.2529 - val_loss: 0.1329 - val_mae: 0.3886\n",
            "Epoch 78/500\n",
            "34/34 [==============================] - 4s 119ms/step - loss: 0.0751 - mae: 0.2501 - val_loss: 0.1318 - val_mae: 0.3862\n",
            "Epoch 79/500\n",
            "34/34 [==============================] - 4s 121ms/step - loss: 0.0742 - mae: 0.2490 - val_loss: 0.1332 - val_mae: 0.3880\n",
            "Epoch 80/500\n",
            "34/34 [==============================] - 4s 119ms/step - loss: 0.0731 - mae: 0.2473 - val_loss: 0.1300 - val_mae: 0.3819\n",
            "Epoch 81/500\n",
            "34/34 [==============================] - 4s 117ms/step - loss: 0.0720 - mae: 0.2451 - val_loss: 0.1268 - val_mae: 0.3778\n",
            "Epoch 82/500\n",
            "34/34 [==============================] - 4s 119ms/step - loss: 0.0707 - mae: 0.2425 - val_loss: 0.1251 - val_mae: 0.3745\n",
            "Epoch 83/500\n",
            "34/34 [==============================] - 4s 120ms/step - loss: 0.0697 - mae: 0.2407 - val_loss: 0.1226 - val_mae: 0.3731\n",
            "Epoch 84/500\n",
            "34/34 [==============================] - 4s 119ms/step - loss: 0.0689 - mae: 0.2399 - val_loss: 0.1228 - val_mae: 0.3701\n",
            "Epoch 85/500\n",
            "34/34 [==============================] - 4s 119ms/step - loss: 0.0681 - mae: 0.2389 - val_loss: 0.1209 - val_mae: 0.3671\n",
            "Epoch 86/500\n",
            "34/34 [==============================] - 4s 119ms/step - loss: 0.0670 - mae: 0.2365 - val_loss: 0.1167 - val_mae: 0.3649\n",
            "Epoch 87/500\n",
            "34/34 [==============================] - 4s 120ms/step - loss: 0.0662 - mae: 0.2354 - val_loss: 0.1171 - val_mae: 0.3611\n",
            "Epoch 88/500\n",
            "34/34 [==============================] - 4s 120ms/step - loss: 0.0653 - mae: 0.2335 - val_loss: 0.1156 - val_mae: 0.3588\n",
            "Epoch 89/500\n",
            "34/34 [==============================] - 4s 120ms/step - loss: 0.0645 - mae: 0.2322 - val_loss: 0.1133 - val_mae: 0.3553\n",
            "Epoch 90/500\n",
            "34/34 [==============================] - 4s 120ms/step - loss: 0.0634 - mae: 0.2301 - val_loss: 0.1149 - val_mae: 0.3568\n",
            "Epoch 91/500\n",
            "34/34 [==============================] - 4s 119ms/step - loss: 0.0627 - mae: 0.2293 - val_loss: 0.1121 - val_mae: 0.3521\n",
            "Epoch 92/500\n",
            "34/34 [==============================] - 4s 119ms/step - loss: 0.0621 - mae: 0.2291 - val_loss: 0.1099 - val_mae: 0.3489\n",
            "Epoch 93/500\n",
            "34/34 [==============================] - 4s 119ms/step - loss: 0.0609 - mae: 0.2257 - val_loss: 0.1102 - val_mae: 0.3488\n",
            "Epoch 94/500\n",
            "34/34 [==============================] - 4s 118ms/step - loss: 0.0602 - mae: 0.2247 - val_loss: 0.1098 - val_mae: 0.3481\n",
            "Epoch 95/500\n",
            "34/34 [==============================] - 4s 119ms/step - loss: 0.0598 - mae: 0.2243 - val_loss: 0.1079 - val_mae: 0.3450\n",
            "Epoch 96/500\n",
            "34/34 [==============================] - 4s 117ms/step - loss: 0.0588 - mae: 0.2220 - val_loss: 0.1048 - val_mae: 0.3409\n",
            "Epoch 97/500\n",
            "34/34 [==============================] - 4s 120ms/step - loss: 0.0579 - mae: 0.2203 - val_loss: 0.1039 - val_mae: 0.3388\n",
            "Epoch 98/500\n",
            "34/34 [==============================] - 4s 120ms/step - loss: 0.0573 - mae: 0.2196 - val_loss: 0.1031 - val_mae: 0.3373\n",
            "Epoch 99/500\n",
            "34/34 [==============================] - 4s 122ms/step - loss: 0.0567 - mae: 0.2184 - val_loss: 0.1002 - val_mae: 0.3336\n",
            "Epoch 100/500\n",
            "34/34 [==============================] - 4s 119ms/step - loss: 0.0560 - mae: 0.2174 - val_loss: 0.1010 - val_mae: 0.3328\n",
            "Epoch 101/500\n",
            "34/34 [==============================] - 4s 119ms/step - loss: 0.0552 - mae: 0.2154 - val_loss: 0.0989 - val_mae: 0.3297\n",
            "Epoch 102/500\n",
            "34/34 [==============================] - 4s 119ms/step - loss: 0.0547 - mae: 0.2150 - val_loss: 0.0968 - val_mae: 0.3281\n",
            "Epoch 103/500\n",
            "34/34 [==============================] - 4s 120ms/step - loss: 0.0540 - mae: 0.2135 - val_loss: 0.0967 - val_mae: 0.3263\n",
            "Epoch 104/500\n",
            "34/34 [==============================] - 4s 120ms/step - loss: 0.0534 - mae: 0.2126 - val_loss: 0.0964 - val_mae: 0.3249\n",
            "Epoch 105/500\n",
            "34/34 [==============================] - 4s 121ms/step - loss: 0.0528 - mae: 0.2116 - val_loss: 0.0961 - val_mae: 0.3243\n",
            "Epoch 106/500\n",
            "34/34 [==============================] - 4s 119ms/step - loss: 0.0524 - mae: 0.2112 - val_loss: 0.0942 - val_mae: 0.3210\n",
            "Epoch 107/500\n",
            "34/34 [==============================] - 4s 121ms/step - loss: 0.0515 - mae: 0.2090 - val_loss: 0.0927 - val_mae: 0.3186\n",
            "Epoch 108/500\n",
            "34/34 [==============================] - 4s 120ms/step - loss: 0.0509 - mae: 0.2078 - val_loss: 0.0913 - val_mae: 0.3172\n",
            "Epoch 109/500\n",
            "34/34 [==============================] - 4s 121ms/step - loss: 0.0504 - mae: 0.2069 - val_loss: 0.0910 - val_mae: 0.3158\n",
            "Epoch 110/500\n",
            "34/34 [==============================] - 4s 123ms/step - loss: 0.0498 - mae: 0.2062 - val_loss: 0.0895 - val_mae: 0.3138\n",
            "Epoch 111/500\n",
            "34/34 [==============================] - 4s 122ms/step - loss: 0.0493 - mae: 0.2049 - val_loss: 0.0898 - val_mae: 0.3133\n",
            "Epoch 112/500\n",
            "34/34 [==============================] - 4s 120ms/step - loss: 0.0488 - mae: 0.2046 - val_loss: 0.0910 - val_mae: 0.3153\n",
            "Epoch 113/500\n",
            "12/34 [=========>....................] - ETA: 2s - loss: 0.0481 - mae: 0.2028"
          ],
          "name": "stdout"
        }
      ]
    },
    {
      "cell_type": "code",
      "metadata": {
        "id": "MVRkGuQTHIOm"
      },
      "source": [
        "from matplotlib import style\n",
        "%matplotlib inline\n",
        "\n",
        "mae = history.history['mae']\n",
        "val_mae = history.history['val_mae']\n",
        "loss = history.history['loss']\n",
        "val_loss = log_history.history['val_loss']\n",
        "\n",
        "epochs = range(len(accur))\n",
        "\n",
        "style.use('ggplot')\n",
        "plt.figure(figsize=(13, 4))\n",
        "for j, metrics in enumerate(zip([accur, loss], [val_accur, val_loss], ['MAE', 'Loss'])):\n",
        "  plt.subplot(1, 2, j + 1)\n",
        "  plt.plot(epochs, metrics[0], label='Training {}'.format(metrics[2]))\n",
        "  plt.plot(epochs, metrics[1], label='Validation {}'.format(metrics[2]))\n",
        "  plt.legend()\n",
        "  plt.title('Training and Validation {}'.format(metrics[2]))\n",
        "\n",
        "plt.show()"
      ],
      "execution_count": null,
      "outputs": []
    },
    {
      "cell_type": "code",
      "metadata": {
        "id": "S6xOve24idbD"
      },
      "source": [
        ""
      ],
      "execution_count": null,
      "outputs": []
    }
  ]
}